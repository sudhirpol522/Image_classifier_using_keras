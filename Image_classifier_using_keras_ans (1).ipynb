{
 "cells": [
  {
   "cell_type": "code",
   "execution_count": 1,
   "metadata": {},
   "outputs": [
    {
     "name": "stderr",
     "output_type": "stream",
     "text": [
      "Using TensorFlow backend.\n",
      "C:\\Users\\sudhir\\Anaconda3\\envs\\tf1.6\\lib\\site-packages\\tensorflow\\python\\framework\\dtypes.py:516: FutureWarning: Passing (type, 1) or '1type' as a synonym of type is deprecated; in a future version of numpy, it will be understood as (type, (1,)) / '(1,)type'.\n",
      "  _np_qint8 = np.dtype([(\"qint8\", np.int8, 1)])\n",
      "C:\\Users\\sudhir\\Anaconda3\\envs\\tf1.6\\lib\\site-packages\\tensorflow\\python\\framework\\dtypes.py:517: FutureWarning: Passing (type, 1) or '1type' as a synonym of type is deprecated; in a future version of numpy, it will be understood as (type, (1,)) / '(1,)type'.\n",
      "  _np_quint8 = np.dtype([(\"quint8\", np.uint8, 1)])\n",
      "C:\\Users\\sudhir\\Anaconda3\\envs\\tf1.6\\lib\\site-packages\\tensorflow\\python\\framework\\dtypes.py:518: FutureWarning: Passing (type, 1) or '1type' as a synonym of type is deprecated; in a future version of numpy, it will be understood as (type, (1,)) / '(1,)type'.\n",
      "  _np_qint16 = np.dtype([(\"qint16\", np.int16, 1)])\n",
      "C:\\Users\\sudhir\\Anaconda3\\envs\\tf1.6\\lib\\site-packages\\tensorflow\\python\\framework\\dtypes.py:519: FutureWarning: Passing (type, 1) or '1type' as a synonym of type is deprecated; in a future version of numpy, it will be understood as (type, (1,)) / '(1,)type'.\n",
      "  _np_quint16 = np.dtype([(\"quint16\", np.uint16, 1)])\n",
      "C:\\Users\\sudhir\\Anaconda3\\envs\\tf1.6\\lib\\site-packages\\tensorflow\\python\\framework\\dtypes.py:520: FutureWarning: Passing (type, 1) or '1type' as a synonym of type is deprecated; in a future version of numpy, it will be understood as (type, (1,)) / '(1,)type'.\n",
      "  _np_qint32 = np.dtype([(\"qint32\", np.int32, 1)])\n",
      "C:\\Users\\sudhir\\Anaconda3\\envs\\tf1.6\\lib\\site-packages\\tensorflow\\python\\framework\\dtypes.py:525: FutureWarning: Passing (type, 1) or '1type' as a synonym of type is deprecated; in a future version of numpy, it will be understood as (type, (1,)) / '(1,)type'.\n",
      "  np_resource = np.dtype([(\"resource\", np.ubyte, 1)])\n",
      "C:\\Users\\sudhir\\Anaconda3\\envs\\tf1.6\\lib\\site-packages\\tensorboard\\compat\\tensorflow_stub\\dtypes.py:541: FutureWarning: Passing (type, 1) or '1type' as a synonym of type is deprecated; in a future version of numpy, it will be understood as (type, (1,)) / '(1,)type'.\n",
      "  _np_qint8 = np.dtype([(\"qint8\", np.int8, 1)])\n",
      "C:\\Users\\sudhir\\Anaconda3\\envs\\tf1.6\\lib\\site-packages\\tensorboard\\compat\\tensorflow_stub\\dtypes.py:542: FutureWarning: Passing (type, 1) or '1type' as a synonym of type is deprecated; in a future version of numpy, it will be understood as (type, (1,)) / '(1,)type'.\n",
      "  _np_quint8 = np.dtype([(\"quint8\", np.uint8, 1)])\n",
      "C:\\Users\\sudhir\\Anaconda3\\envs\\tf1.6\\lib\\site-packages\\tensorboard\\compat\\tensorflow_stub\\dtypes.py:543: FutureWarning: Passing (type, 1) or '1type' as a synonym of type is deprecated; in a future version of numpy, it will be understood as (type, (1,)) / '(1,)type'.\n",
      "  _np_qint16 = np.dtype([(\"qint16\", np.int16, 1)])\n",
      "C:\\Users\\sudhir\\Anaconda3\\envs\\tf1.6\\lib\\site-packages\\tensorboard\\compat\\tensorflow_stub\\dtypes.py:544: FutureWarning: Passing (type, 1) or '1type' as a synonym of type is deprecated; in a future version of numpy, it will be understood as (type, (1,)) / '(1,)type'.\n",
      "  _np_quint16 = np.dtype([(\"quint16\", np.uint16, 1)])\n",
      "C:\\Users\\sudhir\\Anaconda3\\envs\\tf1.6\\lib\\site-packages\\tensorboard\\compat\\tensorflow_stub\\dtypes.py:545: FutureWarning: Passing (type, 1) or '1type' as a synonym of type is deprecated; in a future version of numpy, it will be understood as (type, (1,)) / '(1,)type'.\n",
      "  _np_qint32 = np.dtype([(\"qint32\", np.int32, 1)])\n",
      "C:\\Users\\sudhir\\Anaconda3\\envs\\tf1.6\\lib\\site-packages\\tensorboard\\compat\\tensorflow_stub\\dtypes.py:550: FutureWarning: Passing (type, 1) or '1type' as a synonym of type is deprecated; in a future version of numpy, it will be understood as (type, (1,)) / '(1,)type'.\n",
      "  np_resource = np.dtype([(\"resource\", np.ubyte, 1)])\n"
     ]
    }
   ],
   "source": [
    "#To import all the essential libraries \n",
    "\n",
    "from keras.models import Sequential\n",
    "from keras.layers import Conv2D\n",
    "from keras.layers import MaxPooling2D\n",
    "from keras.layers import Flatten\n",
    "from keras.layers import Dense\n",
    "\n"
   ]
  },
  {
   "cell_type": "code",
   "execution_count": 7,
   "metadata": {},
   "outputs": [],
   "source": [
    "\n",
    "classifier = Sequential()\n",
    "\n",
    "\n",
    "classifier.add(Conv2D(64, (3, 3), input_shape = (64, 64, 3), activation = 'relu'))\n",
    "\n",
    "classifier.add(MaxPooling2D(pool_size = (2, 2)))\n",
    "\n",
    "\n",
    "classifier.add(Conv2D(64, (3, 3), activation = 'relu'))\n",
    "classifier.add(MaxPooling2D(pool_size = (2, 2)))\n",
    "\n",
    "\n",
    "\n",
    "\n",
    "classifier.add(Flatten())\n",
    "\n",
    "\n",
    "classifier.add(Dense(units = 128, activation = 'relu'))\n",
    "\n",
    "classifier.add(Dense(units = 4, activation = 'softmax'))\n",
    "\n",
    "\n",
    "classifier.compile(optimizer = 'Nadam', loss = 'categorical_crossentropy', metrics = ['accuracy'])\n",
    "#Used softmax at the output because there are 4 outputs which are posssible and found categorical cross entropy and used optimizer nestrov adam\n"
   ]
  },
  {
   "cell_type": "code",
   "execution_count": 8,
   "metadata": {},
   "outputs": [
    {
     "name": "stdout",
     "output_type": "stream",
     "text": [
      "Found 311 images belonging to 4 classes.\n",
      "Found 311 images belonging to 4 classes.\n",
      "Epoch 1/25\n",
      "800/800 [==============================] - 613s 767ms/step - loss: 0.2313 - accuracy: 0.9091 - val_loss: 0.0030 - val_accuracy: 1.0000\n",
      "Epoch 2/25\n",
      "800/800 [==============================] - 585s 732ms/step - loss: 0.0320 - accuracy: 0.9938 - val_loss: 1.6172e-05 - val_accuracy: 1.0000\n",
      "Epoch 3/25\n",
      "800/800 [==============================] - 582s 727ms/step - loss: 0.1018 - accuracy: 0.9883 - val_loss: 6.2690e-05 - val_accuracy: 1.0000\n",
      "Epoch 4/25\n",
      "800/800 [==============================] - 582s 727ms/step - loss: 0.0017 - accuracy: 0.9996 - val_loss: 2.4363e-04 - val_accuracy: 1.0000\n",
      "Epoch 5/25\n",
      "800/800 [==============================] - 592s 739ms/step - loss: 0.0066 - accuracy: 0.9983 - val_loss: 8.9514e-07 - val_accuracy: 1.0000\n",
      "Epoch 6/25\n",
      "800/800 [==============================] - 582s 728ms/step - loss: 5.0636e-05 - accuracy: 1.0000 - val_loss: 2.0807e-06 - val_accuracy: 1.0000\n",
      "Epoch 7/25\n",
      "800/800 [==============================] - 582s 728ms/step - loss: 1.6837e-05 - accuracy: 1.0000 - val_loss: 1.4955e-06 - val_accuracy: 1.0000\n",
      "Epoch 8/25\n",
      "800/800 [==============================] - 582s 728ms/step - loss: 8.3508e-06 - accuracy: 1.0000 - val_loss: 1.4261e-06 - val_accuracy: 1.0000\n",
      "Epoch 9/25\n",
      "800/800 [==============================] - 584s 731ms/step - loss: 4.4894e-06 - accuracy: 1.0000 - val_loss: 0.0000e+00 - val_accuracy: 1.0000\n",
      "Epoch 10/25\n",
      "800/800 [==============================] - 647s 809ms/step - loss: 2.8852e-06 - accuracy: 1.0000 - val_loss: 1.3005e-08 - val_accuracy: 1.0000\n",
      "Epoch 11/25\n",
      "800/800 [==============================] - 607s 759ms/step - loss: 1.5679e-06 - accuracy: 1.0000 - val_loss: 8.6698e-09 - val_accuracy: 1.0000\n",
      "Epoch 12/25\n",
      "800/800 [==============================] - 586s 733ms/step - loss: 1.0386e-06 - accuracy: 1.0000 - val_loss: 1.3005e-07 - val_accuracy: 1.0000\n",
      "Epoch 13/25\n",
      "800/800 [==============================] - 579s 724ms/step - loss: 9.2940e-07 - accuracy: 1.0000 - val_loss: 0.0000e+00 - val_accuracy: 1.0000\n",
      "Epoch 14/25\n",
      "800/800 [==============================] - 583s 729ms/step - loss: 5.6764e-07 - accuracy: 1.0000 - val_loss: 4.3349e-09 - val_accuracy: 1.0000\n",
      "Epoch 15/25\n",
      "800/800 [==============================] - 580s 726ms/step - loss: 3.1291e-07 - accuracy: 1.0000 - val_loss: 6.5023e-09 - val_accuracy: 1.0000\n",
      "Epoch 16/25\n",
      "800/800 [==============================] - 576s 720ms/step - loss: 2.2003e-07 - accuracy: 1.0000 - val_loss: 0.0000e+00 - val_accuracy: 1.0000\n",
      "Epoch 17/25\n",
      "800/800 [==============================] - 581s 727ms/step - loss: 1.7896e-07 - accuracy: 1.0000 - val_loss: 2.1674e-09 - val_accuracy: 1.0000\n",
      "Epoch 18/25\n",
      "800/800 [==============================] - 579s 723ms/step - loss: 8.4477e-08 - accuracy: 1.0000 - val_loss: 0.0000e+00 - val_accuracy: 1.0000\n",
      "Epoch 19/25\n",
      "800/800 [==============================] - 577s 722ms/step - loss: 7.1033e-08 - accuracy: 1.0000 - val_loss: 0.0000e+00 - val_accuracy: 1.0000\n",
      "Epoch 20/25\n",
      "800/800 [==============================] - 574s 717ms/step - loss: 4.0322e-08 - accuracy: 1.0000 - val_loss: 0.0000e+00 - val_accuracy: 1.0000\n",
      "Epoch 21/25\n",
      "800/800 [==============================] - 574s 717ms/step - loss: 3.4737e-08 - accuracy: 1.0000 - val_loss: 0.0000e+00 - val_accuracy: 1.0000\n",
      "Epoch 22/25\n",
      "800/800 [==============================] - 576s 720ms/step - loss: 0.0431 - accuracy: 0.9930 - val_loss: 0.0038 - val_accuracy: 1.0000\n",
      "Epoch 23/25\n",
      "800/800 [==============================] - 573s 716ms/step - loss: 0.0079 - accuracy: 0.9982 - val_loss: 7.8520e-06 - val_accuracy: 1.0000\n",
      "Epoch 24/25\n",
      "800/800 [==============================] - 574s 718ms/step - loss: 8.9680e-05 - accuracy: 1.0000 - val_loss: 1.6429e-06 - val_accuracy: 1.0000\n",
      "Epoch 25/25\n",
      "800/800 [==============================] - 599s 749ms/step - loss: 1.5151e-05 - accuracy: 1.0000 - val_loss: 7.3909e-07 - val_accuracy: 1.0000\n"
     ]
    },
    {
     "data": {
      "text/plain": [
       "<keras.callbacks.callbacks.History at 0x2ce5af8d248>"
      ]
     },
     "execution_count": 8,
     "metadata": {},
     "output_type": "execute_result"
    }
   ],
   "source": [
    "from keras.preprocessing.image import ImageDataGenerator\n",
    "\n",
    "train_datagen = ImageDataGenerator(rescale = 1./255,\n",
    "                                   shear_range = 0.2,\n",
    "                                   zoom_range = 0.2,\n",
    "                                   horizontal_flip = True)\n",
    "#To convert image into 1 & o form that is in grayscale \n",
    "\n",
    "test_datagen = ImageDataGenerator(rescale = 1./255)\n",
    "\n",
    "training_set = train_datagen.flow_from_directory('E:\\Image_Classification\\PetImages',\n",
    "                                                 target_size = (64, 64),\n",
    "                                                 batch_size = 64,\n",
    "                                                 class_mode='categorical'\n",
    "                                                 \n",
    "                                                )\n",
    "\n",
    "test_set = test_datagen.flow_from_directory('E:\\Image_Classification\\PetImages',\n",
    "                                            target_size = (64, 64),\n",
    "                                            batch_size = 64,\n",
    "                                            class_mode='categorical')\n",
    "\n",
    "classifier.fit_generator(training_set,\n",
    "                         steps_per_epoch = 800,\n",
    "                         epochs = 25,\n",
    "                         validation_data = test_set,    \n",
    "                         validation_steps = 200)\n",
    "#here we have used validation data as test_test itself which will validate after every 200 steps\n"
   ]
  },
  {
   "cell_type": "code",
   "execution_count": 36,
   "metadata": {},
   "outputs": [
    {
     "name": "stdout",
     "output_type": "stream",
     "text": [
      "cat\n"
     ]
    }
   ],
   "source": [
    "import numpy as np\n",
    "from keras.preprocessing import image\n",
    "test_image = image.load_img('E:\\Image_Classification\\cat.jpg', target_size = (64, 64))\n",
    "#To display the image \n",
    "from PIL import Image \n",
    "try:  \n",
    "    img  = Image.open('E:\\Image_Classification\\cat.jpg')  \n",
    "except IOError: \n",
    "    pass\n",
    "img.show()\n",
    "#to convert it into array\n",
    "test_image = image.img_to_array(test_image)\n",
    "test_image = np.expand_dims(test_image, axis = 0)\n",
    "result = classifier.predict(test_image)\n",
    "#To predict the class of the image from the given input\n",
    "if result[0][0]==1:\n",
    "    print('MsDhoni')\n",
    "elif result[0][1]==1:\n",
    "    print('cat')\n",
    "elif result[0][2]==1:\n",
    "    print('Dog')\n",
    "else:\n",
    "    print('Virat')"
   ]
  },
  {
   "cell_type": "code",
   "execution_count": 38,
   "metadata": {},
   "outputs": [
    {
     "name": "stdout",
     "output_type": "stream",
     "text": [
      "Virat\n"
     ]
    }
   ],
   "source": [
    "import numpy as np\n",
    "from keras.preprocessing import image\n",
    "test_image = image.load_img('E:\\Image_Classification\\Virat.jpg', target_size = (64, 64))\n",
    "#To display the image \n",
    "from PIL import Image \n",
    "try:  \n",
    "    img  = Image.open('E:\\Image_Classification\\Virat.jpg')  \n",
    "except IOError: \n",
    "    pass\n",
    "img.show()\n",
    "#to convert it into array\n",
    "test_image = image.img_to_array(test_image)\n",
    "test_image = np.expand_dims(test_image, axis = 0)\n",
    "result = classifier.predict(test_image)\n",
    "#To predict the class of the image from the given input\n",
    "if result[0][0]==1:\n",
    "    print('MsDhoni')\n",
    "elif result[0][1]==1:\n",
    "    print('cat')\n",
    "elif result[0][2]==1:\n",
    "    print('Dog')\n",
    "else:\n",
    "    print('Virat')"
   ]
  },
  {
   "cell_type": "code",
   "execution_count": 39,
   "metadata": {},
   "outputs": [
    {
     "name": "stdout",
     "output_type": "stream",
     "text": [
      "Dog\n"
     ]
    }
   ],
   "source": [
    "import numpy as np\n",
    "from keras.preprocessing import image\n",
    "test_image = image.load_img('E:\\Image_Classification\\dog.jpg', target_size = (64, 64))\n",
    "#To display the image \n",
    "from PIL import Image \n",
    "try:  \n",
    "    img  = Image.open('E:\\Image_Classification\\dog.jpg')  \n",
    "except IOError: \n",
    "    pass\n",
    "img.show()\n",
    "#to convert it into array\n",
    "test_image = image.img_to_array(test_image)\n",
    "test_image = np.expand_dims(test_image, axis = 0)\n",
    "result = classifier.predict(test_image)\n",
    "#To predict the class of the image from the given input\n",
    "if result[0][0]==1:\n",
    "    print('MsDhoni')\n",
    "elif result[0][1]==1:\n",
    "    print('cat')\n",
    "elif result[0][2]==1:\n",
    "    print('Dog')\n",
    "else:\n",
    "    print('Virat')"
   ]
  },
  {
   "cell_type": "code",
   "execution_count": 40,
   "metadata": {},
   "outputs": [
    {
     "name": "stdout",
     "output_type": "stream",
     "text": [
      "MsDhoni\n"
     ]
    }
   ],
   "source": [
    "import numpy as np\n",
    "from keras.preprocessing import image\n",
    "test_image = image.load_img('E:\\Image_Classification\\ms.jpg', target_size = (64, 64))\n",
    "#To display the image \n",
    "from PIL import Image \n",
    "try:  \n",
    "    img  = Image.open('E:\\Image_Classification\\ms.jpg')  \n",
    "except IOError: \n",
    "    pass\n",
    "img.show()\n",
    "#to convert it into array\n",
    "test_image = image.img_to_array(test_image)\n",
    "test_image = np.expand_dims(test_image, axis = 0)\n",
    "result = classifier.predict(test_image)\n",
    "#To predict the class of the image from the given input\n",
    "if result[0][0]==1:\n",
    "    print('MsDhoni')\n",
    "elif result[0][1]==1:\n",
    "    print('cat')\n",
    "elif result[0][2]==1:\n",
    "    print('Dog')\n",
    "else:\n",
    "    print('Virat')"
   ]
  },
  {
   "cell_type": "code",
   "execution_count": null,
   "metadata": {},
   "outputs": [],
   "source": []
  }
 ],
 "metadata": {
  "kernelspec": {
   "display_name": "Python 3",
   "language": "python",
   "name": "python3"
  },
  "language_info": {
   "codemirror_mode": {
    "name": "ipython",
    "version": 3
   },
   "file_extension": ".py",
   "mimetype": "text/x-python",
   "name": "python",
   "nbconvert_exporter": "python",
   "pygments_lexer": "ipython3",
   "version": "3.7.4"
  }
 },
 "nbformat": 4,
 "nbformat_minor": 4
}
